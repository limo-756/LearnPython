{
 "cells": [
  {
   "cell_type": "code",
   "execution_count": 1,
   "id": "f0a691db-8c33-4dba-b5d6-5209bc805898",
   "metadata": {},
   "outputs": [],
   "source": [
    "import pandas as pd"
   ]
  },
  {
   "cell_type": "code",
   "execution_count": 4,
   "id": "24424913-0391-49a9-9802-f00db79fc0ad",
   "metadata": {},
   "outputs": [
    {
     "ename": "ImportError",
     "evalue": "Missing optional dependency 'openpyxl'.  Use pip or conda to install openpyxl.",
     "output_type": "error",
     "traceback": [
      "\u001b[0;31m---------------------------------------------------------------------------\u001b[0m",
      "\u001b[0;31mImportError\u001b[0m                               Traceback (most recent call last)",
      "\u001b[0;32m/var/folders/qm/5r5qq3mn66948zvhkwljnfmryhq0py/T/ipykernel_58440/1955871661.py\u001b[0m in \u001b[0;36m<module>\u001b[0;34m\u001b[0m\n\u001b[0;32m----> 1\u001b[0;31m \u001b[0mpricing_list\u001b[0m \u001b[0;34m=\u001b[0m \u001b[0mpd\u001b[0m\u001b[0;34m.\u001b[0m\u001b[0mExcelFile\u001b[0m\u001b[0;34m(\u001b[0m\u001b[0;34m'/Users/anurag.sh/workspace/SQLDump/temp/pricing.xlsx'\u001b[0m\u001b[0;34m)\u001b[0m\u001b[0;34m\u001b[0m\u001b[0;34m\u001b[0m\u001b[0m\n\u001b[0m\u001b[1;32m      2\u001b[0m \u001b[0;31m# print(pricing_list.head(5))\u001b[0m\u001b[0;34m\u001b[0m\u001b[0;34m\u001b[0m\u001b[0;34m\u001b[0m\u001b[0m\n\u001b[1;32m      3\u001b[0m \u001b[0;31m# print(pricing_list)\u001b[0m\u001b[0;34m\u001b[0m\u001b[0;34m\u001b[0m\u001b[0;34m\u001b[0m\u001b[0m\n",
      "\u001b[0;32m~/PycharmProjects/LearnPython/venv/lib/python3.8/site-packages/pandas/io/excel/_base.py\u001b[0m in \u001b[0;36m__init__\u001b[0;34m(self, path_or_buffer, engine, storage_options)\u001b[0m\n\u001b[1;32m   1231\u001b[0m         \u001b[0mself\u001b[0m\u001b[0;34m.\u001b[0m\u001b[0mstorage_options\u001b[0m \u001b[0;34m=\u001b[0m \u001b[0mstorage_options\u001b[0m\u001b[0;34m\u001b[0m\u001b[0;34m\u001b[0m\u001b[0m\n\u001b[1;32m   1232\u001b[0m \u001b[0;34m\u001b[0m\u001b[0m\n\u001b[0;32m-> 1233\u001b[0;31m         \u001b[0mself\u001b[0m\u001b[0;34m.\u001b[0m\u001b[0m_reader\u001b[0m \u001b[0;34m=\u001b[0m \u001b[0mself\u001b[0m\u001b[0;34m.\u001b[0m\u001b[0m_engines\u001b[0m\u001b[0;34m[\u001b[0m\u001b[0mengine\u001b[0m\u001b[0;34m]\u001b[0m\u001b[0;34m(\u001b[0m\u001b[0mself\u001b[0m\u001b[0;34m.\u001b[0m\u001b[0m_io\u001b[0m\u001b[0;34m,\u001b[0m \u001b[0mstorage_options\u001b[0m\u001b[0;34m=\u001b[0m\u001b[0mstorage_options\u001b[0m\u001b[0;34m)\u001b[0m\u001b[0;34m\u001b[0m\u001b[0;34m\u001b[0m\u001b[0m\n\u001b[0m\u001b[1;32m   1234\u001b[0m \u001b[0;34m\u001b[0m\u001b[0m\n\u001b[1;32m   1235\u001b[0m     \u001b[0;32mdef\u001b[0m \u001b[0m__fspath__\u001b[0m\u001b[0;34m(\u001b[0m\u001b[0mself\u001b[0m\u001b[0;34m)\u001b[0m\u001b[0;34m:\u001b[0m\u001b[0;34m\u001b[0m\u001b[0;34m\u001b[0m\u001b[0m\n",
      "\u001b[0;32m~/PycharmProjects/LearnPython/venv/lib/python3.8/site-packages/pandas/io/excel/_openpyxl.py\u001b[0m in \u001b[0;36m__init__\u001b[0;34m(self, filepath_or_buffer, storage_options)\u001b[0m\n\u001b[1;32m    519\u001b[0m             \u001b[0mpassed\u001b[0m \u001b[0mto\u001b[0m \u001b[0mfsspec\u001b[0m \u001b[0;32mfor\u001b[0m \u001b[0mappropriate\u001b[0m \u001b[0mURLs\u001b[0m \u001b[0;34m(\u001b[0m\u001b[0msee\u001b[0m\u001b[0;31m \u001b[0m\u001b[0;31m`\u001b[0m\u001b[0;31m`\u001b[0m\u001b[0m_get_filepath_or_buffer\u001b[0m\u001b[0;31m`\u001b[0m\u001b[0;31m`\u001b[0m\u001b[0;34m)\u001b[0m\u001b[0;34m\u001b[0m\u001b[0;34m\u001b[0m\u001b[0m\n\u001b[1;32m    520\u001b[0m         \"\"\"\n\u001b[0;32m--> 521\u001b[0;31m         \u001b[0mimport_optional_dependency\u001b[0m\u001b[0;34m(\u001b[0m\u001b[0;34m\"openpyxl\"\u001b[0m\u001b[0;34m)\u001b[0m\u001b[0;34m\u001b[0m\u001b[0;34m\u001b[0m\u001b[0m\n\u001b[0m\u001b[1;32m    522\u001b[0m         \u001b[0msuper\u001b[0m\u001b[0;34m(\u001b[0m\u001b[0;34m)\u001b[0m\u001b[0;34m.\u001b[0m\u001b[0m__init__\u001b[0m\u001b[0;34m(\u001b[0m\u001b[0mfilepath_or_buffer\u001b[0m\u001b[0;34m,\u001b[0m \u001b[0mstorage_options\u001b[0m\u001b[0;34m=\u001b[0m\u001b[0mstorage_options\u001b[0m\u001b[0;34m)\u001b[0m\u001b[0;34m\u001b[0m\u001b[0;34m\u001b[0m\u001b[0m\n\u001b[1;32m    523\u001b[0m \u001b[0;34m\u001b[0m\u001b[0m\n",
      "\u001b[0;32m~/PycharmProjects/LearnPython/venv/lib/python3.8/site-packages/pandas/compat/_optional.py\u001b[0m in \u001b[0;36mimport_optional_dependency\u001b[0;34m(name, extra, errors, min_version)\u001b[0m\n\u001b[1;32m    116\u001b[0m     \u001b[0;32mexcept\u001b[0m \u001b[0mImportError\u001b[0m\u001b[0;34m:\u001b[0m\u001b[0;34m\u001b[0m\u001b[0;34m\u001b[0m\u001b[0m\n\u001b[1;32m    117\u001b[0m         \u001b[0;32mif\u001b[0m \u001b[0merrors\u001b[0m \u001b[0;34m==\u001b[0m \u001b[0;34m\"raise\"\u001b[0m\u001b[0;34m:\u001b[0m\u001b[0;34m\u001b[0m\u001b[0;34m\u001b[0m\u001b[0m\n\u001b[0;32m--> 118\u001b[0;31m             \u001b[0;32mraise\u001b[0m \u001b[0mImportError\u001b[0m\u001b[0;34m(\u001b[0m\u001b[0mmsg\u001b[0m\u001b[0;34m)\u001b[0m \u001b[0;32mfrom\u001b[0m \u001b[0;32mNone\u001b[0m\u001b[0;34m\u001b[0m\u001b[0;34m\u001b[0m\u001b[0m\n\u001b[0m\u001b[1;32m    119\u001b[0m         \u001b[0;32melse\u001b[0m\u001b[0;34m:\u001b[0m\u001b[0;34m\u001b[0m\u001b[0;34m\u001b[0m\u001b[0m\n\u001b[1;32m    120\u001b[0m             \u001b[0;32mreturn\u001b[0m \u001b[0;32mNone\u001b[0m\u001b[0;34m\u001b[0m\u001b[0;34m\u001b[0m\u001b[0m\n",
      "\u001b[0;31mImportError\u001b[0m: Missing optional dependency 'openpyxl'.  Use pip or conda to install openpyxl."
     ]
    }
   ],
   "source": [
    "pricing_list = pd.ExcelFile('/Users/anurag.sh/workspace/SQLDump/temp/pricing.xlsx')\n",
    "# print(pricing_list.head(5))\n",
    "# print(pricing_list)"
   ]
  },
  {
   "cell_type": "code",
   "execution_count": 22,
   "id": "b240e5ed-510c-49f3-bbd2-17a13dac57cf",
   "metadata": {},
   "outputs": [
    {
     "name": "stdout",
     "output_type": "stream",
     "text": [
      "adsasfwdfwqdfwqdf\n",
      "0          Company Information\n",
      "1                  companyName\n",
      "2                 supportEmail\n",
      "3                      webmail\n",
      "4                 controlPanel\n",
      "5                      payment\n",
      "6             Default currency\n",
      "7               Default locale\n",
      "8                 Support docs\n",
      "9                documentation\n",
      "10          customerTermsOfUse\n",
      "11                  termsOfUse\n",
      "12               privacyPolicy\n",
      "13                  adminGuide\n",
      "14                 importEmail\n",
      "15         userManagedDNSSetup\n",
      "16      partnerManagedDNSSetup\n",
      "17                    whatsNew\n",
      "18           ofacSanctionGuide\n",
      "19                 chatSupport\n",
      "20        cpanel plugin config\n",
      "21              PARTNER_CP_URL\n",
      "22                   Resources\n",
      "23         controlPanelLogoUrl\n",
      "24    controlPanelInvertedLogo\n",
      "25                  appLogoUrl\n",
      "26          appLogoUrlInverted\n",
      "27              emailHeaderUrl\n",
      "28      emailHeaderInvertedUrl\n",
      "Name: Key, dtype: object\n",
      "update brandings set branding_info = JSON_SET(branding_info, \"$.emails.supportEmail\", \"https://cliente.hostgator.com.br/emails-list/gerenciar/{domain_name}\") where partner_id = 21;\n",
      "update brandings set branding_info = JSON_SET(branding_info, \"$.emails.supportEmail\", \"https://billing.hostgator.mx/emails-list/gerenciar/{domain_name}\") where partner_id = 34;\n",
      "update brandings set branding_info = JSON_SET(branding_info, \"$.emails.supportEmail\", \"https://billing.hostgator.cl/emails-list/gerenciar/{domain_name}\") where partner_id = 35;\n",
      "update brandings set branding_info = JSON_SET(branding_info, \"$.emails.supportEmail\", \"https://billing.hostgator.co/emails-list/gerenciar/{domain_name}\") where partner_id = 36;\n"
     ]
    }
   ],
   "source": [
    "print('adsasfwdfwqdfwqdf')\n",
    "print(poke.Key)\n",
    "# print(poke.head(4))\n",
    "# print(poke['Key'])\n",
    "# print(poke[1])\n",
    "sql = 'update brandings set branding_info = JSON_SET(branding_info, \"$.emails.supportEmail\", \"%s\") where partner_id = %s;'\n",
    "partners = [21, 34, 35, 36]\n",
    "for i in range(4):\n",
    "    print(sql % (poke.iloc[4, i+1], partners[i]))\n",
    "    "
   ]
  },
  {
   "cell_type": "code",
   "execution_count": 29,
   "id": "2a23d744-a247-4ec1-bf6c-c88d19672f89",
   "metadata": {},
   "outputs": [
    {
     "name": "stdout",
     "output_type": "stream",
     "text": [
      "update brandings set branding_info = JSON_SET(branding_info, \"$.urls.documentation\", \"https://suporte.hostgator.com.br/hc/pt-br/categories/1260801368689\") where partner_id = 21;\n",
      "update brandings set branding_info = JSON_SET(branding_info, \"$.urls.documentation\", \"https://soporte-latam.hostgator.com/hc/es-419/categories/360005756052\") where partner_id = 34;\n",
      "update brandings set branding_info = JSON_SET(branding_info, \"$.urls.documentation\", \"nan\") where partner_id = 35;\n",
      "update brandings set branding_info = JSON_SET(branding_info, \"$.urls.documentation\", \"nan\") where partner_id = 36;\n"
     ]
    }
   ],
   "source": [
    "sql = 'update brandings set branding_info = JSON_SET(branding_info, \"$.urls.documentation\", \"%s\") where partner_id = %s;'\n",
    "partners = [21, 34, 35, 36]\n",
    "for i in range(4):\n",
    "    print(sql % (poke.iloc[9, i+1], partners[i]))"
   ]
  },
  {
   "cell_type": "code",
   "execution_count": 37,
   "id": "642e270e",
   "metadata": {},
   "outputs": [
    {
     "name": "stdout",
     "output_type": "stream",
     "text": [
      "update brandings set branding_info = JSON_SET(branding_info, \"$.urls.ofacSanctionGuide\", \"https://soporte-latam.hostgator.com/hc/es-419/articles/360058495892\") where partner_id = 21;\n",
      "update brandings set branding_info = JSON_SET(branding_info, \"$.urls.ofacSanctionGuide\", \"https://soporte-latam.hostgator.com/hc/es-419/articles/360058495892\") where partner_id = 34;\n",
      "update brandings set branding_info = JSON_SET(branding_info, \"$.urls.ofacSanctionGuide\", \"https://soporte-latam.hostgator.com/hc/es-419/articles/360058495892\") where partner_id = 35;\n",
      "update brandings set branding_info = JSON_SET(branding_info, \"$.urls.ofacSanctionGuide\", \"https://soporte-latam.hostgator.com/hc/es-419/articles/360058495892\") where partner_id = 36;\n"
     ]
    }
   ],
   "source": [
    "sql = 'update brandings set branding_info = JSON_SET(branding_info, \"$.urls.ofacSanctionGuide\", \"https://soporte-latam.hostgator.com/hc/es-419/articles/360058495892\") where partner_id = %s;'\n",
    "partners = [21, 34, 35, 36]\n",
    "for i in range(4):\n",
    "    print(sql % (partners[i]))"
   ]
  },
  {
   "cell_type": "code",
   "execution_count": null,
   "id": "48c5e538",
   "metadata": {},
   "outputs": [],
   "source": []
  }
 ],
 "metadata": {
  "kernelspec": {
   "display_name": "Python 3 (ipykernel)",
   "language": "python",
   "name": "python3"
  },
  "language_info": {
   "codemirror_mode": {
    "name": "ipython",
    "version": 3
   },
   "file_extension": ".py",
   "mimetype": "text/x-python",
   "name": "python",
   "nbconvert_exporter": "python",
   "pygments_lexer": "ipython3",
   "version": "3.8.2"
  }
 },
 "nbformat": 4,
 "nbformat_minor": 5
}
