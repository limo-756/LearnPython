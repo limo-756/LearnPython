{
 "cells": [
  {
   "cell_type": "code",
   "execution_count": 1,
   "id": "f0a691db-8c33-4dba-b5d6-5209bc805898",
   "metadata": {},
   "outputs": [],
   "source": [
    "import pandas as pd"
   ]
  },
  {
   "cell_type": "code",
   "execution_count": 4,
   "id": "24424913-0391-49a9-9802-f00db79fc0ad",
   "metadata": {},
   "outputs": [
    {
     "name": "stdout",
     "output_type": "stream",
     "text": [
      "                   Key                                                 21  \\\n",
      "0  Company Information                                                NaN   \n",
      "1          companyName                                                NaN   \n",
      "2         supportEmail                       hostgatorsupport@titan.email   \n",
      "3              webmail                     https://titan.hostgator.com.br   \n",
      "4         controlPanel  https://cliente.hostgator.com.br/emails-list/g...   \n",
      "\n",
      "                                                  34  \\\n",
      "0                                                NaN   \n",
      "1                                                NaN   \n",
      "2                                                NaN   \n",
      "3                         https://titan.hostgator.mx   \n",
      "4  https://billing.hostgator.mx/emails-list/geren...   \n",
      "\n",
      "                                                  35  \\\n",
      "0                                                NaN   \n",
      "1                                                NaN   \n",
      "2                                                NaN   \n",
      "3                         https://titan.hostgator.cl   \n",
      "4  https://billing.hostgator.cl/emails-list/geren...   \n",
      "\n",
      "                                                  36  \\\n",
      "0                                                NaN   \n",
      "1                                                NaN   \n",
      "2                                                NaN   \n",
      "3                         https://titan.hostgator.co   \n",
      "4  https://billing.hostgator.co/emails-list/geren...   \n",
      "\n",
      "                                         Description  \\\n",
      "0                                                NaN   \n",
      "1                                                NaN   \n",
      "2                                                NaN   \n",
      "3  https://titan.hostgator.com.br/mail/\\nhttps://...   \n",
      "4                                                NaN   \n",
      "\n",
      "                Default value  \n",
      "0                         NaN  \n",
      "1                         abc  \n",
      "2               email@abc.com  \n",
      "3     https://abc.titan.email  \n",
      "4  https://manage.titan.email  \n"
     ]
    }
   ],
   "source": [
    "poke = pd.read_csv('/Users/anurag.sh/workspace/SQLDump/hostgator.csv')\n",
    "print(poke.head(5))"
   ]
  },
  {
   "cell_type": "code",
   "execution_count": 22,
   "id": "b240e5ed-510c-49f3-bbd2-17a13dac57cf",
   "metadata": {},
   "outputs": [
    {
     "name": "stdout",
     "output_type": "stream",
     "text": [
      "adsasfwdfwqdfwqdf\n",
      "0          Company Information\n",
      "1                  companyName\n",
      "2                 supportEmail\n",
      "3                      webmail\n",
      "4                 controlPanel\n",
      "5                      payment\n",
      "6             Default currency\n",
      "7               Default locale\n",
      "8                 Support docs\n",
      "9                documentation\n",
      "10          customerTermsOfUse\n",
      "11                  termsOfUse\n",
      "12               privacyPolicy\n",
      "13                  adminGuide\n",
      "14                 importEmail\n",
      "15         userManagedDNSSetup\n",
      "16      partnerManagedDNSSetup\n",
      "17                    whatsNew\n",
      "18           ofacSanctionGuide\n",
      "19                 chatSupport\n",
      "20        cpanel plugin config\n",
      "21              PARTNER_CP_URL\n",
      "22                   Resources\n",
      "23         controlPanelLogoUrl\n",
      "24    controlPanelInvertedLogo\n",
      "25                  appLogoUrl\n",
      "26          appLogoUrlInverted\n",
      "27              emailHeaderUrl\n",
      "28      emailHeaderInvertedUrl\n",
      "Name: Key, dtype: object\n",
      "update brandings set branding_info = JSON_SET(branding_info, \"$.emails.supportEmail\", \"https://cliente.hostgator.com.br/emails-list/gerenciar/{domain_name}\") where partner_id = 21;\n",
      "update brandings set branding_info = JSON_SET(branding_info, \"$.emails.supportEmail\", \"https://billing.hostgator.mx/emails-list/gerenciar/{domain_name}\") where partner_id = 34;\n",
      "update brandings set branding_info = JSON_SET(branding_info, \"$.emails.supportEmail\", \"https://billing.hostgator.cl/emails-list/gerenciar/{domain_name}\") where partner_id = 35;\n",
      "update brandings set branding_info = JSON_SET(branding_info, \"$.emails.supportEmail\", \"https://billing.hostgator.co/emails-list/gerenciar/{domain_name}\") where partner_id = 36;\n"
     ]
    }
   ],
   "source": [
    "print('adsasfwdfwqdfwqdf')\n",
    "print(poke.Key)\n",
    "# print(poke.head(4))\n",
    "# print(poke['Key'])\n",
    "# print(poke[1])\n",
    "sql = 'update brandings set branding_info = JSON_SET(branding_info, \"$.emails.supportEmail\", \"%s\") where partner_id = %s;'\n",
    "partners = [21, 34, 35, 36]\n",
    "for i in range(4):\n",
    "    print(sql % (poke.iloc[4, i+1], partners[i]))\n",
    "    "
   ]
  },
  {
   "cell_type": "code",
   "execution_count": 29,
   "id": "2a23d744-a247-4ec1-bf6c-c88d19672f89",
   "metadata": {},
   "outputs": [
    {
     "name": "stdout",
     "output_type": "stream",
     "text": [
      "update brandings set branding_info = JSON_SET(branding_info, \"$.urls.documentation\", \"https://suporte.hostgator.com.br/hc/pt-br/categories/1260801368689\") where partner_id = 21;\n",
      "update brandings set branding_info = JSON_SET(branding_info, \"$.urls.documentation\", \"https://soporte-latam.hostgator.com/hc/es-419/categories/360005756052\") where partner_id = 34;\n",
      "update brandings set branding_info = JSON_SET(branding_info, \"$.urls.documentation\", \"nan\") where partner_id = 35;\n",
      "update brandings set branding_info = JSON_SET(branding_info, \"$.urls.documentation\", \"nan\") where partner_id = 36;\n"
     ]
    }
   ],
   "source": [
    "sql = 'update brandings set branding_info = JSON_SET(branding_info, \"$.urls.documentation\", \"%s\") where partner_id = %s;'\n",
    "partners = [21, 34, 35, 36]\n",
    "for i in range(4):\n",
    "    print(sql % (poke.iloc[9, i+1], partners[i]))"
   ]
  },
  {
   "cell_type": "code",
   "execution_count": 37,
   "id": "642e270e",
   "metadata": {},
   "outputs": [
    {
     "name": "stdout",
     "output_type": "stream",
     "text": [
      "update brandings set branding_info = JSON_SET(branding_info, \"$.urls.ofacSanctionGuide\", \"https://soporte-latam.hostgator.com/hc/es-419/articles/360058495892\") where partner_id = 21;\n",
      "update brandings set branding_info = JSON_SET(branding_info, \"$.urls.ofacSanctionGuide\", \"https://soporte-latam.hostgator.com/hc/es-419/articles/360058495892\") where partner_id = 34;\n",
      "update brandings set branding_info = JSON_SET(branding_info, \"$.urls.ofacSanctionGuide\", \"https://soporte-latam.hostgator.com/hc/es-419/articles/360058495892\") where partner_id = 35;\n",
      "update brandings set branding_info = JSON_SET(branding_info, \"$.urls.ofacSanctionGuide\", \"https://soporte-latam.hostgator.com/hc/es-419/articles/360058495892\") where partner_id = 36;\n"
     ]
    }
   ],
   "source": [
    "sql = 'update brandings set branding_info = JSON_SET(branding_info, \"$.urls.ofacSanctionGuide\", \"https://soporte-latam.hostgator.com/hc/es-419/articles/360058495892\") where partner_id = %s;'\n",
    "partners = [21, 34, 35, 36]\n",
    "for i in range(4):\n",
    "    print(sql % (partners[i]))"
   ]
  },
  {
   "cell_type": "code",
   "execution_count": null,
   "id": "48c5e538",
   "metadata": {},
   "outputs": [],
   "source": []
  }
 ],
 "metadata": {
  "kernelspec": {
   "display_name": "Python 3 (ipykernel)",
   "language": "python",
   "name": "python3"
  },
  "language_info": {
   "codemirror_mode": {
    "name": "ipython",
    "version": 3
   },
   "file_extension": ".py",
   "mimetype": "text/x-python",
   "name": "python",
   "nbconvert_exporter": "python",
   "pygments_lexer": "ipython3",
   "version": "3.8.2"
  }
 },
 "nbformat": 4,
 "nbformat_minor": 5
}
